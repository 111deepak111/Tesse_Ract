{
 "cells": [
  {
   "cell_type": "code",
   "execution_count": 1,
   "id": "99d5a712-15e8-457d-b02b-05c1c74b779b",
   "metadata": {},
   "outputs": [],
   "source": [
    "import cv2\n",
    "import pytesseract\n"
   ]
  },
  {
   "cell_type": "code",
   "execution_count": 3,
   "id": "cd6b3a87-6f40-474d-b1e1-f67fa8f0960b",
   "metadata": {},
   "outputs": [
    {
     "name": "stdout",
     "output_type": "stream",
     "text": [
      "(1672, 1236, 3)\n"
     ]
    }
   ],
   "source": [
    "image=cv2.imread(\"data/sample_mgh.jpg\")\n",
    "im_h,im_w,im_d=image.shape\n",
    "print(image.shape)\n",
    "base_image=image.copy()"
   ]
  },
  {
   "cell_type": "code",
   "execution_count": 4,
   "id": "ee9fbeae-e08d-4283-890c-be98e068ed85",
   "metadata": {},
   "outputs": [],
   "source": [
    "gray=cv2.cvtColor(image,cv2.COLOR_BGR2GRAY)\n",
    "blur=cv2.GaussianBlur(gray,(7,7),0)\n",
    "\n",
    "thres=cv2.threshold(blur,0,255,cv2.THRESH_BINARY_INV+cv2.THRESH_OTSU)[1]\n"
   ]
  },
  {
   "cell_type": "code",
   "execution_count": 5,
   "id": "416a50d9-e65d-49fe-a792-12528aac043e",
   "metadata": {},
   "outputs": [],
   "source": [
    "kernel=cv2.getStructuringElement(cv2.MORPH_RECT,(50,10))\n",
    "dilate=cv2.dilate(thres,kernel,iterations=1)"
   ]
  },
  {
   "cell_type": "code",
   "execution_count": 6,
   "id": "9f93544a-ce2b-4f98-a8f4-90d84f2996bf",
   "metadata": {},
   "outputs": [
    {
     "data": {
      "text/plain": [
       "True"
      ]
     },
     "execution_count": 6,
     "metadata": {},
     "output_type": "execute_result"
    }
   ],
   "source": [
    "cv2.imwrite(\"temp/dilated.png\",dilate)"
   ]
  },
  {
   "cell_type": "code",
   "execution_count": 7,
   "id": "f02968a3-aae2-456e-b2d2-55c00a11873c",
   "metadata": {},
   "outputs": [],
   "source": [
    "cnts=cv2.findContours(dilate,cv2.RETR_EXTERNAL,cv2.CHAIN_APPROX_SIMPLE)\n",
    "cnts=cnts[0] if len(cnts)==2 else cnts[1]\n",
    "cnts=sorted(cnts,key=lambda x:cv2.boundingRect(x)[1])"
   ]
  },
  {
   "cell_type": "code",
   "execution_count": 16,
   "id": "dcdb3ed5-1986-487a-b38c-899890b9e0d3",
   "metadata": {},
   "outputs": [],
   "source": [
    "for c in cnts:\n",
    "    x,y,w,h=cv2.boundingRect(c)\n",
    "    if(h<20 and w>250):\n",
    "        roi=base_image[0:y,0:x+im_w]\n",
    "        cv2.rectangle(image,(x,y),(x+w,y+h),(36,255,100),2)"
   ]
  },
  {
   "cell_type": "code",
   "execution_count": 17,
   "id": "13fb449f-7f5e-43b3-9ea8-3142e364b346",
   "metadata": {},
   "outputs": [
    {
     "data": {
      "text/plain": [
       "True"
      ]
     },
     "execution_count": 17,
     "metadata": {},
     "output_type": "execute_result"
    }
   ],
   "source": [
    "cv2.imwrite(\"temp/new_boxes.png\",roi)"
   ]
  },
  {
   "cell_type": "code",
   "execution_count": 10,
   "id": "6c437d3f-e7aa-4d78-a2ac-a11d298b4850",
   "metadata": {},
   "outputs": [
    {
     "name": "stdout",
     "output_type": "stream",
     "text": [
      "\f",
      "\n"
     ]
    }
   ],
   "source": []
  },
  {
   "cell_type": "code",
   "execution_count": null,
   "id": "b4f64a2b-017c-47c4-a7f5-f66cd23862cf",
   "metadata": {},
   "outputs": [],
   "source": []
  }
 ],
 "metadata": {
  "kernelspec": {
   "display_name": "Python 3 (ipykernel)",
   "language": "python",
   "name": "python3"
  },
  "language_info": {
   "codemirror_mode": {
    "name": "ipython",
    "version": 3
   },
   "file_extension": ".py",
   "mimetype": "text/x-python",
   "name": "python",
   "nbconvert_exporter": "python",
   "pygments_lexer": "ipython3",
   "version": "3.10.11"
  }
 },
 "nbformat": 4,
 "nbformat_minor": 5
}
